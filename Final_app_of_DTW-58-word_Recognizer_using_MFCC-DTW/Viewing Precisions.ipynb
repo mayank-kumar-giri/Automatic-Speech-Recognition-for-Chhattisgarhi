{
 "cells": [
  {
   "cell_type": "code",
   "execution_count": 4,
   "metadata": {},
   "outputs": [
    {
     "name": "stdout",
     "output_type": "stream",
     "text": [
      "Precisions of 58 classes:\n",
      " [ 80  28  -1 100  66 100  75 100 100 100  80  66 100  66 100  50 100 100\n",
      " 100  50  27 100 100  80  40 100 100  50 100 100 100 100 100  50 100  42\n",
      " 100 100  80  75 100  57  50  75 100 100  66 100  66 100  50 100 100 100\n",
      "  66  80 100  -1]\n",
      "The accuracy observed was around 75.43%, i.e., 175 samples out of 232 were correctly recognized.\n"
     ]
    }
   ],
   "source": [
    "import numpy as np\n",
    "pre = np.load(\"precisions.npy\")\n",
    "print(\"Precisions of\",len(pre),\"classes:\\n\",pre)\n",
    "print(\"The accuracy observed was around 75.43%, i.e., 175 samples out of 232 were correctly recognized.\")"
   ]
  }
 ],
 "metadata": {
  "kernelspec": {
   "display_name": "Python 3",
   "language": "python",
   "name": "python3"
  },
  "language_info": {
   "codemirror_mode": {
    "name": "ipython",
    "version": 3
   },
   "file_extension": ".py",
   "mimetype": "text/x-python",
   "name": "python",
   "nbconvert_exporter": "python",
   "pygments_lexer": "ipython3",
   "version": "3.7.0"
  }
 },
 "nbformat": 4,
 "nbformat_minor": 2
}
