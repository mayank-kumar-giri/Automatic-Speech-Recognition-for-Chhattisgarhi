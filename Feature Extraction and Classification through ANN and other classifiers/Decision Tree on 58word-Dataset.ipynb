{
 "cells": [
  {
   "cell_type": "code",
   "execution_count": 10,
   "metadata": {},
   "outputs": [],
   "source": [
    "from os import listdir\n",
    "from os.path import isfile, join\n",
    "import os\n",
    "import librosa\n",
    "import numpy as np\n",
    "import matplotlib.pyplot as plt\n",
    "from matplotlib.pyplot import specgram\n",
    "import json\n",
    "import time\n",
    "import io\n",
    "from sklearn.ensemble import RandomForestClassifier\n",
    "%matplotlib inline\n",
    "plt.style.use('ggplot')"
   ]
  },
  {
   "cell_type": "code",
   "execution_count": 11,
   "metadata": {},
   "outputs": [],
   "source": [
    "x_train = np.load(\"x_train.npy\")\n",
    "y_train = np.load(\"y_train.npy\")\n",
    "x_test = np.load(\"x_test.npy\")\n",
    "y_test = np.load(\"y_test.npy\")"
   ]
  },
  {
   "cell_type": "code",
   "execution_count": 12,
   "metadata": {},
   "outputs": [
    {
     "name": "stdout",
     "output_type": "stream",
     "text": [
      "Training model.\n",
      "Time taken for training - 2.7176782773846266\n",
      "Time taken for testing - 0.0004630747652427658\n"
     ]
    }
   ],
   "source": [
    "from sklearn import tree\n",
    "from sklearn.metrics import accuracy_score\n",
    "model = tree.DecisionTreeClassifier(criterion=\"entropy\",min_samples_split=7)\n",
    "print(\"Training model.\")\n",
    "#train model\n",
    "start = time.perf_counter()\n",
    "model.fit(x_train,y_train)\n",
    "print(\"Time taken for training -\",time.perf_counter() - start)\n",
    "start = time.perf_counter()\n",
    "predicted_labels = model.predict(x_test)\n",
    "print(\"Time taken for testing -\",time.perf_counter() - start)\n",
    "acc = accuracy_score(y_test, predicted_labels) * 100"
   ]
  },
  {
   "cell_type": "code",
   "execution_count": 13,
   "metadata": {},
   "outputs": [],
   "source": [
    "with open('eng_dict.json') as data_file:\n",
    "    eng_dict = json.load(data_file)\n",
    "\n",
    "from sklearn.externals import joblib\n",
    "filename = 'hin_dict'\n",
    "hin_dict = joblib.load(filename)"
   ]
  },
  {
   "cell_type": "markdown",
   "metadata": {},
   "source": [
    "# Accuracy"
   ]
  },
  {
   "cell_type": "code",
   "execution_count": 14,
   "metadata": {},
   "outputs": [
    {
     "name": "stdout",
     "output_type": "stream",
     "text": [
      "The accuracy is 19.396551724137932 %.\n"
     ]
    }
   ],
   "source": [
    "count = 0\n",
    "for i in range(len(predicted_labels)):\n",
    "    if predicted_labels[i]==y_test[i]:\n",
    "        count+=1\n",
    "acc = count/len(predicted_labels)\n",
    "acc = acc*100\n",
    "print(\"The accuracy is\",acc,\"%.\")"
   ]
  },
  {
   "cell_type": "markdown",
   "metadata": {},
   "source": [
    "# Precision"
   ]
  },
  {
   "cell_type": "code",
   "execution_count": 15,
   "metadata": {},
   "outputs": [
    {
     "name": "stdout",
     "output_type": "stream",
     "text": [
      "Precisions word-wise:\n",
      "आबे -1\n",
      "ए 16.666666666666664\n",
      "अतेक 0.0\n",
      "अउ 50.0\n",
      "बईठ 25.0\n",
      "बनाए 50.0\n",
      "बने 0.0\n",
      "बर 12.5\n",
      "बीत 50.0\n",
      "बेरा 7.142857142857142\n",
      "भाजी 100.0\n",
      "भात 14.285714285714285\n",
      "छत्तीसगढ़ 14.285714285714285\n",
      "एमा 33.33333333333333\n",
      "एती 25.0\n",
      "गे 0.0\n",
      "गिस -1\n",
      "गोड़ 60.0\n",
      "ह 50.0\n",
      "हमर 0.0\n",
      "हे 0.0\n",
      "जाहूँ 0.0\n",
      "जल्दी 0.0\n",
      "का 50.0\n",
      "काबर 50.0\n",
      "कहत 16.666666666666664\n",
      "करत 0.0\n",
      "के 25.0\n",
      "खाबे 16.666666666666664\n",
      "खाबो 0.0\n",
      "खबर 11.11111111111111\n",
      "किला 0.0\n",
      "कोति 0.0\n",
      "ला 20.0\n",
      "लागिस 40.0\n",
      "लगिस 0.0\n",
      "लइका 0.0\n",
      "लेजबे  14.285714285714285\n",
      "महतारी 0.0\n",
      "मोला 0.0\n",
      "मोर 16.666666666666664\n",
      "नाम 33.33333333333333\n",
      "नहीं -1\n",
      "नोन्ही 0.0\n",
      "ऊपर 50.0\n",
      "परीक्षा -1\n",
      "पीरात 0.0\n",
      "रहिस 11.11111111111111\n",
      "रखे 0.0\n",
      "रेंगत 0.0\n",
      "साग 100.0\n",
      "सामान 25.0\n",
      "स्थित 0.0\n",
      "तरोई 0.0\n",
      "टेरत 50.0\n",
      "टूरा 44.44444444444444\n",
      "तुमन 75.0\n",
      "ये 0.0\n"
     ]
    }
   ],
   "source": [
    "num = [0]*58\n",
    "den = [0]*58\n",
    "for i in range(len(predicted_labels)):\n",
    "    den[predicted_labels[i]] += 1\n",
    "    if predicted_labels[i]==y_test[i]:\n",
    "        num[predicted_labels[i]] += 1\n",
    "precisions = [0]*58\n",
    "print(\"Precisions word-wise:\")\n",
    "for i in range(58):\n",
    "    try:\n",
    "        precisions[i]=(num[i]/den[i])*100\n",
    "    except:\n",
    "        precisions[i] = -1\n",
    "        pass\n",
    "    print(hin_dict[i],precisions[i])"
   ]
  },
  {
   "cell_type": "code",
   "execution_count": 19,
   "metadata": {},
   "outputs": [
    {
     "name": "stdout",
     "output_type": "stream",
     "text": [
      "ACC 19.396551724137932\n",
      "PRE [-1, 16.666666666666664, 0.0, 50.0, 25.0, 50.0, 0.0, 12.5, 50.0, 7.142857142857142, 100.0, 14.285714285714285, 14.285714285714285, 33.33333333333333, 25.0, 0.0, -1, 60.0, 50.0, 0.0, 0.0, 0.0, 0.0, 50.0, 50.0, 16.666666666666664, 0.0, 25.0, 16.666666666666664, 0.0, 11.11111111111111, 0.0, 0.0, 20.0, 40.0, 0.0, 0.0, 14.285714285714285, 0.0, 0.0, 16.666666666666664, 33.33333333333333, -1, 0.0, 50.0, -1, 0.0, 11.11111111111111, 0.0, 0.0, 100.0, 25.0, 0.0, 0.0, 50.0, 44.44444444444444, 75.0, 0.0]\n"
     ]
    }
   ],
   "source": [
    "print(\"ACC\",acc)\n",
    "print(\"PRE\",precisions)"
   ]
  }
 ],
 "metadata": {
  "kernelspec": {
   "display_name": "Python 3",
   "language": "python",
   "name": "python3"
  },
  "language_info": {
   "codemirror_mode": {
    "name": "ipython",
    "version": 3
   },
   "file_extension": ".py",
   "mimetype": "text/x-python",
   "name": "python",
   "nbconvert_exporter": "python",
   "pygments_lexer": "ipython3",
   "version": "3.7.0"
  }
 },
 "nbformat": 4,
 "nbformat_minor": 2
}
