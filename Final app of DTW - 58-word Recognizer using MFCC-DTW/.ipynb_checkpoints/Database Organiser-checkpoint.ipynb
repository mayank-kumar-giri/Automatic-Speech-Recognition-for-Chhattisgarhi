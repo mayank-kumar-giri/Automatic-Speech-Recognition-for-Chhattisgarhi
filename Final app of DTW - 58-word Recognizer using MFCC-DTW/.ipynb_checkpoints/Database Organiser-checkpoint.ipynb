{
 "cells": [
  {
   "cell_type": "code",
   "execution_count": 1,
   "metadata": {},
   "outputs": [],
   "source": [
    "from os import listdir\n",
    "from os.path import isfile, join\n",
    "import os\n",
    "import json\n",
    "import io"
   ]
  },
  {
   "cell_type": "code",
   "execution_count": 2,
   "metadata": {},
   "outputs": [
    {
     "name": "stdout",
     "output_type": "stream",
     "text": [
      "{'nahin': 42, 'naam': 41, 'bhaat': 11, 'eti': 14, 'gis': 16, 'hey': 20, 'jaldee': 22, 'ema': 13, 'banae': 5, 'nony': 43, 'ka': 23, 'godh': 17, 'ke': 27, 'kaabar': 24, 'chhattishgarh': 12, 'bhaajee': 10, 'mola': 39, 'oopar': 44, 'lagis': 35, 'bane': 6, 'ye': 57, 'ge': 15, 'lejabe': 37, 'pirat': 46, 'pareeksha': 45, 'khabar': 30, 'la': 33, 'khaabo': 29, 'kila': 31, 'mahataaree': 38, 'rahis': 47, 'mor': 40, 'baith': 4, 'sthit': 52, 'tuman': 56, 'laika': 36, 'kahat': 25, 'laagis': 34, 'khaabe': 28, 'bar': 7, 'hamar': 19, 'koti': 32, 'jaahun': 21, 'terat': 54, 'beet': 8, 'toora': 55, 'atek': 2, 'bera': 9, 'saamaan': 51, 'taroee': 53, 'ha': 18, 'aabe': 0, 'rakhe': 48, 'au': 3, 'rengat': 49, 'karat': 26, 'ae': 1, 'saag': 50}\n"
     ]
    }
   ],
   "source": [
    "with open('eng_dict.json') as data_file:\n",
    "    eng_dict = json.load(data_file)\n",
    "    print(eng_dict)"
   ]
  },
  {
   "cell_type": "code",
   "execution_count": 7,
   "metadata": {},
   "outputs": [],
   "source": [
    "cwd = os.getcwd()\n",
    "testd = cwd + \"\\\\Dataset_Final\\\\Training_Dataset\"\n",
    "# for i in eng_dict:\n",
    "#     test = testd + \"\\\\\" + i\n",
    "#     os.mkdir(test)"
   ]
  },
  {
   "cell_type": "code",
   "execution_count": 8,
   "metadata": {},
   "outputs": [],
   "source": [
    "testd = cwd + \"\\\\Dataset_Final\\\\Training_Dataset\"\n",
    "folders = [f for f in listdir(testd) if not isfile(join(testd, f))]\n",
    "testd = testd + \"\\\\\"\n",
    "for i in folders:\n",
    "    test = testd + \"\\\\\" + i + \"\\\\\"\n",
    "    onlyfiles = [f for f in listdir(test) if isfile(join(test, f))]\n",
    "    for j in onlyfiles:\n",
    "        os.rename((test+j),(testd+j))\n",
    "\n",
    "# for i in eng_dict:\n",
    "#     test = cwd + \"\\\\Dataset_Final\\\\Testing_Dataset\\\\\" + i + \"\\\\\"\n",
    "#     for j in onlyfiles:\n",
    "# #         print(j.split(\"_\"))\n",
    "#         try:\n",
    "#             if j.split(\"_\")[0]==i:\n",
    "#                 os.rename((testd+j),(test+j))\n",
    "#         except:\n",
    "#             pass"
   ]
  },
  {
   "cell_type": "code",
   "execution_count": 17,
   "metadata": {},
   "outputs": [],
   "source": [
    "add = \"C:/Users/heman/Downloads/Minor End/Final_Data\"\n",
    "of = [f for f in listdir(add) if isfile(join(add, f))]\n",
    "# of.pop(\"desktop.ini\")\n",
    "for i in of:\n",
    "    if i==\"desktop.ini\":\n",
    "        continue\n",
    "    if i.split(\"_\")[0][-1]==\"1\":\n",
    "        os.remove(add + \"\\\\\" + i)\n",
    "        "
   ]
  },
  {
   "cell_type": "code",
   "execution_count": null,
   "metadata": {},
   "outputs": [],
   "source": [
    "nn = i.split(\"_\")[0] + \"_\" + \"buddhi_\" + i.split(\"_\")[2]\n",
    "        testd = add + \"\\\\\"\n",
    "        os.rename((testd+i),(testd+nn))\n",
    "        print(i.split(\"_\"))\n",
    "\n",
    "    elif i.split(\"_\")[1]==\"averma\":\n",
    "        nn = i.split(\"_\")[0] + \"_\" + \"ananya_\" + i.split(\"_\")[2]\n",
    "        testd = add + \"\\\\\"\n",
    "        os.rename((testd+i),(testd+nn))\n",
    "        print(i.split(\"_\"))\n",
    "    \n",
    "    elif i.split(\"_\")[1]==\"saurabh\":\n",
    "        nn = i.split(\"_\")[0] + \"_\" + \"shaurabh_\" + i.split(\"_\")[2]\n",
    "        testd = add + \"\\\\\"\n",
    "        os.rename((testd+i),(testd+nn))\n",
    "        print(i.split(\"_\"))\n"
   ]
  }
 ],
 "metadata": {
  "kernelspec": {
   "display_name": "Python 3",
   "language": "python",
   "name": "python3"
  },
  "language_info": {
   "codemirror_mode": {
    "name": "ipython",
    "version": 3
   },
   "file_extension": ".py",
   "mimetype": "text/x-python",
   "name": "python",
   "nbconvert_exporter": "python",
   "pygments_lexer": "ipython3",
   "version": "3.7.0"
  }
 },
 "nbformat": 4,
 "nbformat_minor": 2
}
