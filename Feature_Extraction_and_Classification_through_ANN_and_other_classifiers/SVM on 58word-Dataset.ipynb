{
 "cells": [
  {
   "cell_type": "code",
   "execution_count": 1,
   "metadata": {},
   "outputs": [],
   "source": [
    "from os import listdir\n",
    "from os.path import isfile, join\n",
    "import os\n",
    "import librosa\n",
    "import numpy as np\n",
    "import matplotlib.pyplot as plt\n",
    "from matplotlib.pyplot import specgram\n",
    "import json\n",
    "import time\n",
    "import io\n",
    "from sklearn.ensemble import RandomForestClassifier\n",
    "%matplotlib inline\n",
    "plt.style.use('ggplot')"
   ]
  },
  {
   "cell_type": "code",
   "execution_count": 18,
   "metadata": {},
   "outputs": [
    {
     "name": "stdout",
     "output_type": "stream",
     "text": [
      "[[-2.38947096e+02  1.18118816e+02 -4.74596306e+01 ...  4.43916367e-02\n",
      "  -2.88090676e-03 -5.77556393e-03]\n",
      " [-2.82045455e+02  1.30983940e+02 -3.37835987e+01 ...  4.41276874e-02\n",
      "  -7.29106281e-03 -7.31102936e-05]\n",
      " [-2.51944336e+02  1.55814381e+02 -6.55783591e+01 ... -3.17622796e-02\n",
      "   1.95978265e-03 -1.52734871e-02]\n",
      " ...\n",
      " [-3.39361262e+02  8.04923742e+01 -2.34320856e+01 ... -8.42419704e-03\n",
      "   8.06509514e-04  1.30168799e-02]\n",
      " [-2.77706828e+02  8.00863360e+01 -2.64300192e+01 ...  3.43568240e-03\n",
      "   1.06518840e-03 -1.04209242e-03]\n",
      " [-2.62863331e+02  7.70219390e+01 -3.86110511e+01 ... -1.09072783e-02\n",
      "  -1.53480042e-03  1.03124539e-02]]\n"
     ]
    }
   ],
   "source": [
    "x_train = np.load(\"x_train.npy\")\n",
    "y_train = np.load(\"y_train.npy\")\n",
    "x_test = np.load(\"x_test.npy\")\n",
    "y_test = np.load(\"y_test.npy\")"
   ]
  },
  {
   "cell_type": "code",
   "execution_count": 55,
   "metadata": {},
   "outputs": [
    {
     "name": "stdout",
     "output_type": "stream",
     "text": [
      "Training model..\n",
      "Time taken for training - 0.8953744007832256\n",
      "Time taken for testing - 0.11881679277485091\n",
      "48.706896551724135\n"
     ]
    }
   ],
   "source": [
    "from sklearn import svm\n",
    "from sklearn.metrics import accuracy_score\n",
    "model = svm.SVC(kernel=\"rbf\", C = 100, gamma=0.000001)\n",
    "print(\"Training model..\")\n",
    "#train model\n",
    "start = time.perf_counter()\n",
    "model.fit(x_train,y_train)\n",
    "print(\"Time taken for training -\",time.perf_counter() - start)\n",
    "start = time.perf_counter()\n",
    "predicted_labels = model.predict(x_test)\n",
    "print(\"Time taken for testing -\",time.perf_counter() - start)\n",
    "print(accuracy_score(y_test, predicted_labels)*100)"
   ]
  },
  {
   "cell_type": "code",
   "execution_count": 56,
   "metadata": {},
   "outputs": [],
   "source": [
    "with open('eng_dict.json') as data_file:\n",
    "    eng_dict = json.load(data_file)\n",
    "\n",
    "from sklearn.externals import joblib\n",
    "filename = 'hin_dict'\n",
    "hin_dict = joblib.load(filename)"
   ]
  },
  {
   "cell_type": "code",
   "execution_count": 57,
   "metadata": {},
   "outputs": [
    {
     "name": "stdout",
     "output_type": "stream",
     "text": [
      "Precisions word-wise:\n",
      "आबे 33.33333333333333\n",
      "ए 40.0\n",
      "अतेक 16.666666666666664\n",
      "अउ 66.66666666666666\n",
      "बईठ 50.0\n",
      "बनाए 50.0\n",
      "बने 100.0\n",
      "बर 100.0\n",
      "बीत 40.0\n",
      "बेरा 20.0\n",
      "भाजी 100.0\n",
      "भात 33.33333333333333\n",
      "छत्तीसगढ़ 66.66666666666666\n",
      "एमा 0.0\n",
      "एती 33.33333333333333\n",
      "गे -1\n",
      "गिस 50.0\n",
      "गोड़ 100.0\n",
      "ह 100.0\n",
      "हमर 50.0\n",
      "हे 33.33333333333333\n",
      "जाहूँ 100.0\n",
      "जल्दी -1\n",
      "का 33.33333333333333\n",
      "काबर 50.0\n",
      "कहत 57.14285714285714\n",
      "करत 75.0\n",
      "के 50.0\n",
      "खाबे 50.0\n",
      "खाबो 100.0\n",
      "खबर 66.66666666666666\n",
      "किला 50.0\n",
      "कोति 100.0\n",
      "ला 33.33333333333333\n",
      "लागिस 25.0\n",
      "लगिस 33.33333333333333\n",
      "लइका 40.0\n",
      "लेजबे  50.0\n",
      "महतारी 33.33333333333333\n",
      "मोला 50.0\n",
      "मोर 33.33333333333333\n",
      "नाम 33.33333333333333\n",
      "नहीं 33.33333333333333\n",
      "नोन्ही 37.5\n",
      "ऊपर 75.0\n",
      "परीक्षा -1\n",
      "पीरात 0.0\n",
      "रहिस 37.5\n",
      "रखे 33.33333333333333\n",
      "रेंगत 33.33333333333333\n",
      "साग 100.0\n",
      "सामान 66.66666666666666\n",
      "स्थित 100.0\n",
      "तरोई 100.0\n",
      "टेरत 50.0\n",
      "टूरा 100.0\n",
      "तुमन 100.0\n",
      "ये 0.0\n"
     ]
    }
   ],
   "source": [
    "num = [0]*58\n",
    "den = [0]*58\n",
    "for i in range(len(predicted_labels)):\n",
    "    den[predicted_labels[i]] += 1\n",
    "    if predicted_labels[i]==y_test[i]:\n",
    "        num[predicted_labels[i]] += 1\n",
    "precisions = [0]*58\n",
    "print(\"Precisions word-wise:\")\n",
    "for i in range(58):\n",
    "    try:\n",
    "        precisions[i]=(num[i]/den[i])*100\n",
    "    except:\n",
    "        precisions[i] = -1\n",
    "        pass\n",
    "    print(hin_dict[i],precisions[i])"
   ]
  },
  {
   "cell_type": "code",
   "execution_count": 58,
   "metadata": {},
   "outputs": [
    {
     "name": "stdout",
     "output_type": "stream",
     "text": [
      "[33.33333333333333, 40.0, 16.666666666666664, 66.66666666666666, 50.0, 50.0, 100.0, 100.0, 40.0, 20.0, 100.0, 33.33333333333333, 66.66666666666666, 0.0, 33.33333333333333, -1, 50.0, 100.0, 100.0, 50.0, 33.33333333333333, 100.0, -1, 33.33333333333333, 50.0, 57.14285714285714, 75.0, 50.0, 50.0, 100.0, 66.66666666666666, 50.0, 100.0, 33.33333333333333, 25.0, 33.33333333333333, 40.0, 50.0, 33.33333333333333, 50.0, 33.33333333333333, 33.33333333333333, 33.33333333333333, 37.5, 75.0, -1, 0.0, 37.5, 33.33333333333333, 33.33333333333333, 100.0, 66.66666666666666, 100.0, 100.0, 50.0, 100.0, 100.0, 0.0]\n",
      "48.706896551724135\n"
     ]
    }
   ],
   "source": [
    "print(precisions)\n",
    "print(\"Accurcy - 48.706896551724135\")"
   ]
  }
 ],
 "metadata": {
  "kernelspec": {
   "display_name": "Python 3",
   "language": "python",
   "name": "python3"
  },
  "language_info": {
   "codemirror_mode": {
    "name": "ipython",
    "version": 3
   },
   "file_extension": ".py",
   "mimetype": "text/x-python",
   "name": "python",
   "nbconvert_exporter": "python",
   "pygments_lexer": "ipython3",
   "version": "3.7.0"
  }
 },
 "nbformat": 4,
 "nbformat_minor": 2
}
