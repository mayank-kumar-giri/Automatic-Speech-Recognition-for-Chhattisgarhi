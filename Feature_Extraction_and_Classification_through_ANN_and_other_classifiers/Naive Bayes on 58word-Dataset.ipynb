{
 "cells": [
  {
   "cell_type": "code",
   "execution_count": 1,
   "metadata": {},
   "outputs": [],
   "source": [
    "from os import listdir\n",
    "from os.path import isfile, join\n",
    "import os\n",
    "import librosa\n",
    "import numpy as np\n",
    "import matplotlib.pyplot as plt\n",
    "from matplotlib.pyplot import specgram\n",
    "import json\n",
    "import time\n",
    "import io\n",
    "from sklearn.ensemble import RandomForestClassifier\n",
    "%matplotlib inline\n",
    "plt.style.use('ggplot')"
   ]
  },
  {
   "cell_type": "code",
   "execution_count": 2,
   "metadata": {},
   "outputs": [],
   "source": [
    "x_train = np.load(\"x_train.npy\")\n",
    "y_train = np.load(\"y_train.npy\")\n",
    "x_test = np.load(\"x_test.npy\")\n",
    "y_test = np.load(\"y_test.npy\")"
   ]
  },
  {
   "cell_type": "code",
   "execution_count": 8,
   "metadata": {},
   "outputs": [
    {
     "name": "stdout",
     "output_type": "stream",
     "text": [
      "Time taken for training - 0.009095664476731713\n",
      "Time taken for testing - 0.008811504961698802\n"
     ]
    }
   ],
   "source": [
    "from sklearn.naive_bayes import GaussianNB\n",
    "model = GaussianNB()\n",
    "#train model\n",
    "start = time.perf_counter()\n",
    "model.fit(x_train,y_train)\n",
    "print(\"Time taken for training -\",time.perf_counter() - start)\n",
    "#predict\n",
    "start = time.perf_counter()\n",
    "predicted_labels = model.predict(x_test)\n",
    "print(\"Time taken for testing -\",time.perf_counter() - start)"
   ]
  },
  {
   "cell_type": "code",
   "execution_count": 15,
   "metadata": {},
   "outputs": [],
   "source": [
    "from sklearn.metrics import accuracy_score\n",
    "accuracy = accuracy_score(y_test, predicted_labels)\n",
    "accuracy = (accuracy*100)"
   ]
  },
  {
   "cell_type": "code",
   "execution_count": 10,
   "metadata": {},
   "outputs": [],
   "source": [
    "with open('eng_dict.json') as data_file:\n",
    "    eng_dict = json.load(data_file)\n",
    "\n",
    "from sklearn.externals import joblib\n",
    "filename = 'hin_dict'\n",
    "hin_dict = joblib.load(filename)"
   ]
  },
  {
   "cell_type": "code",
   "execution_count": 11,
   "metadata": {},
   "outputs": [
    {
     "name": "stdout",
     "output_type": "stream",
     "text": [
      "232 232\n"
     ]
    }
   ],
   "source": [
    "print(len(predicted_labels),len(y_test))"
   ]
  },
  {
   "cell_type": "code",
   "execution_count": 13,
   "metadata": {},
   "outputs": [
    {
     "name": "stdout",
     "output_type": "stream",
     "text": [
      "Precisions word-wise:\n",
      "आबे 25.0\n",
      "ए 0.0\n",
      "अतेक 100.0\n",
      "अउ 50.0\n",
      "बईठ 0.0\n",
      "बनाए -1\n",
      "बने -1\n",
      "बर 50.0\n",
      "बीत 75.0\n",
      "बेरा 14.285714285714285\n",
      "भाजी 0.0\n",
      "भात 0.0\n",
      "छत्तीसगढ़ 33.33333333333333\n",
      "एमा 16.666666666666664\n",
      "एती 42.857142857142854\n",
      "गे 14.285714285714285\n",
      "गिस 75.0\n",
      "गोड़ 23.076923076923077\n",
      "ह -1\n",
      "हमर 16.666666666666664\n",
      "हे -1\n",
      "जाहूँ 16.666666666666664\n",
      "जल्दी -1\n",
      "का -1\n",
      "काबर 100.0\n",
      "कहत 40.0\n",
      "करत 100.0\n",
      "के 40.0\n",
      "खाबे 33.33333333333333\n",
      "खाबो 0.0\n",
      "खबर -1\n",
      "किला 0.0\n",
      "कोति 100.0\n",
      "ला -1\n",
      "लागिस 12.5\n",
      "लगिस -1\n",
      "लइका 42.857142857142854\n",
      "लेजबे  0.0\n",
      "महतारी 0.0\n",
      "मोला 0.0\n",
      "मोर 21.428571428571427\n",
      "नाम 37.5\n",
      "नहीं 0.0\n",
      "नोन्ही 33.33333333333333\n",
      "ऊपर 0.0\n",
      "परीक्षा 25.0\n",
      "पीरात 37.5\n",
      "रहिस 20.0\n",
      "रखे -1\n",
      "रेंगत 22.22222222222222\n",
      "साग 0.0\n",
      "सामान 0.0\n",
      "स्थित 0.0\n",
      "तरोई 0.0\n",
      "टेरत 100.0\n",
      "टूरा 50.0\n",
      "तुमन 100.0\n",
      "ये 12.5\n"
     ]
    }
   ],
   "source": [
    "num = [0]*58\n",
    "den = [0]*58\n",
    "for i in range(len(predicted_labels)):\n",
    "    den[predicted_labels[i]] += 1\n",
    "    if predicted_labels[i]==y_test[i]:\n",
    "        num[predicted_labels[i]] += 1\n",
    "precisions = [0]*58\n",
    "print(\"Precisions word-wise:\")\n",
    "for i in range(58):\n",
    "    try:\n",
    "        precisions[i]=(num[i]/den[i])*100\n",
    "    except:\n",
    "        precisions[i] = -1\n",
    "        pass\n",
    "    print(hin_dict[i],precisions[i])"
   ]
  },
  {
   "cell_type": "code",
   "execution_count": 16,
   "metadata": {},
   "outputs": [
    {
     "name": "stdout",
     "output_type": "stream",
     "text": [
      "ACC 26.72413793103448\n",
      "PRE [25.0, 0.0, 100.0, 50.0, 0.0, -1, -1, 50.0, 75.0, 14.285714285714285, 0.0, 0.0, 33.33333333333333, 16.666666666666664, 42.857142857142854, 14.285714285714285, 75.0, 23.076923076923077, -1, 16.666666666666664, -1, 16.666666666666664, -1, -1, 100.0, 40.0, 100.0, 40.0, 33.33333333333333, 0.0, -1, 0.0, 100.0, -1, 12.5, -1, 42.857142857142854, 0.0, 0.0, 0.0, 21.428571428571427, 37.5, 0.0, 33.33333333333333, 0.0, 25.0, 37.5, 20.0, -1, 22.22222222222222, 0.0, 0.0, 0.0, 0.0, 100.0, 50.0, 100.0, 12.5]\n"
     ]
    }
   ],
   "source": [
    "print(\"ACC\",accuracy)\n",
    "print(\"PRE\",precisions)"
   ]
  }
 ],
 "metadata": {
  "kernelspec": {
   "display_name": "Python 3",
   "language": "python",
   "name": "python3"
  },
  "language_info": {
   "codemirror_mode": {
    "name": "ipython",
    "version": 3
   },
   "file_extension": ".py",
   "mimetype": "text/x-python",
   "name": "python",
   "nbconvert_exporter": "python",
   "pygments_lexer": "ipython3",
   "version": "3.5.2"
  }
 },
 "nbformat": 4,
 "nbformat_minor": 2
}
